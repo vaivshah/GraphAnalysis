{
 "cells": [
  {
   "cell_type": "code",
   "execution_count": 1,
   "metadata": {},
   "outputs": [],
   "source": [
    "import sys\n",
    "import time\n",
    "import json\n",
    "from pprint import pprint\n",
    "\n",
    "import pandas as pd\n",
    "\n",
    "from neo4j import GraphDatabase\n",
    "from neo4j.exceptions import ClientError\n",
    "from dask import delayed, compute\n",
    "import multiprocessing.popen_spawn_posix\n",
    "from dask.distributed import Client\n",
    "\n",
    "import helpers.graph_services as gs\n",
    "import helpers.mongo_services as ms\n",
    "import helpers.helper as helper"
   ]
  },
  {
   "cell_type": "code",
   "execution_count": 2,
   "metadata": {},
   "outputs": [],
   "source": [
    "def get_algos(list_of_algorithms):\n",
    "    writeProps={}\n",
    "    for class_of_algorithm in list_of_algorithms:\n",
    "        writeProps[class_of_algorithm]=[]\n",
    "        for algorithm in list_of_algorithms[class_of_algorithm]:\n",
    "            writeProps[class_of_algorithm].append(list_of_algorithms[class_of_algorithm][algorithm]['writeProperty'])\n",
    "    return writeProps\n",
    "\n",
    "    writeProps=get_algos(helper.get_list_of_algorithms())\n",
    "    writeProps= [prop for class_of_algorithm in writeProps for prop in writeProps[class_of_algorithm] ]\n",
    "#     writeProps += ['language', 'mature', 'partner', 'views', 'days', 'node_id']\n",
    "    writeProps += ['node_id', 'language']\n",
    "    writeProps = [\"n.\"+prop+\" AS \"+prop+\",\" for prop in writeProps]\n",
    "    return writeProps"
   ]
  },
  {
   "cell_type": "code",
   "execution_count": 3,
   "metadata": {},
   "outputs": [],
   "source": [
    "def get_number_of_nodes():\n",
    "    neo4j_connection=gs.graph_driver(uri_scheme='bolt', host='localhost', port='8687', username='neo4j', password='vaibhav123')\n",
    "    neo4j_data=neo4j_connection.test_connection()\n",
    "    return dict(neo4j_data[0])['nodes']"
   ]
  },
  {
   "cell_type": "code",
   "execution_count": 4,
   "metadata": {},
   "outputs": [],
   "source": [
    "def read_batch_from_neo4j(driver, writeProps, start_index=0, batch_size=1, ):\n",
    "    query=\"\"\"\n",
    "    MATCH (n)\n",
    "    RETURN {props} \n",
    "    SKIP {start_index}\n",
    "    LIMIT {batch_size}\n",
    "    \"\"\".format(start_index=start_index, batch_size=batch_size, props=\" \".join(writeProps)[:-1])\n",
    "    res=driver.run_single_query(query)\n",
    "    res=driver.format_raw_res(res)\n",
    "#     return [dict(rs) for rs in res]\n",
    "    \n",
    "    writeProps=get_algos(helper.get_list_of_algorithms())\n",
    "    DEFAULT='non-graph'\n",
    "    formatted_results=[]\n",
    "    for rs in res:\n",
    "        res_dict={DEFAULT:{}}\n",
    "        for propName in writeProps.keys():\n",
    "            res_dict[propName]={}\n",
    "            \n",
    "        rs=dict(rs)\n",
    "        for key, value in rs.items():\n",
    "            for propName in writeProps.keys():\n",
    "                if key in writeProps[propName]:\n",
    "                    res_dict[propName][key]=value\n",
    "                    break\n",
    "            else:\n",
    "                res_dict[DEFAULT][key]=value\n",
    "        formatted_results.append(res_dict)\n",
    "    return formatted_results\n",
    "\n",
    "def get_mongo_driver(db=\"DEFAULT_DB\", collection=\"DEFAULT_COLLECTION\"):\n",
    "    conf = {\n",
    "        'MONGODB_HOST': 'localhost',\n",
    "        'MONGODB_PORT': '27817',\n",
    "        'LOG_FILE': '../mongo/logs/db.log'\n",
    "    }\n",
    "    return ms.get_MongoDB_driver(conf, db, collection)\n",
    "\n",
    "def write_batch_to_mongo(driver, data):\n",
    "    return driver.collection.insert_many(data)\n",
    "    \n",
    "def run_single_batch(writeProps, start_index, step):\n",
    "    neo4j_connection=gs.graph_driver(uri_scheme='bolt', host='localhost', port='8687', username='neo4j', password='vaibhav123')\n",
    "    neo4j_data=read_batch_from_neo4j(neo4j_connection, writeProps, start_index, step)\n",
    "    \n",
    "    mongo_connection=get_mongo_driver(db=\"twitch_users\", collection=\"graph_features\")\n",
    "    mongo_res=None\n",
    "    if mongo_connection:\n",
    "        mongo_res=write_batch_to_mongo(mongo_connection, neo4j_data)\n",
    "    \n",
    "    return mongo_res"
   ]
  },
  {
   "cell_type": "code",
   "execution_count": 5,
   "metadata": {},
   "outputs": [],
   "source": [
    "# run_single_batch(writeProps, 0, 2)"
   ]
  },
  {
   "cell_type": "code",
   "execution_count": 6,
   "metadata": {},
   "outputs": [
    {
     "name": "stderr",
     "output_type": "stream",
     "text": [
      "/home/vaibhav/Code/miniconda3/envs/GraphAnalysis/lib/python3.9/site-packages/distributed/node.py:151: UserWarning: Port 8787 is already in use.\n",
      "Perhaps you already have a cluster running?\n",
      "Hosting the HTTP server on port 35259 instead\n",
      "  warnings.warn(\n"
     ]
    }
   ],
   "source": [
    "client = Client(n_workers=6, threads_per_worker=6)"
   ]
  },
  {
   "cell_type": "code",
   "execution_count": 7,
   "metadata": {},
   "outputs": [
    {
     "name": "stdout",
     "output_type": "stream",
     "text": [
      "34118\n"
     ]
    },
    {
     "ename": "NameError",
     "evalue": "name 'writeProps' is not defined",
     "output_type": "error",
     "traceback": [
      "\u001b[0;31m---------------------------------------------------------------------------\u001b[0m",
      "\u001b[0;31mNameError\u001b[0m                                 Traceback (most recent call last)",
      "\u001b[0;32m<ipython-input-7-383bda57ee1b>\u001b[0m in \u001b[0;36m<module>\u001b[0;34m\u001b[0m\n\u001b[1;32m      5\u001b[0m \u001b[0mres\u001b[0m \u001b[0;34m=\u001b[0m \u001b[0;34m[\u001b[0m\u001b[0;34m]\u001b[0m\u001b[0;34m\u001b[0m\u001b[0;34m\u001b[0m\u001b[0m\n\u001b[1;32m      6\u001b[0m \u001b[0;32mfor\u001b[0m \u001b[0mindex\u001b[0m \u001b[0;32min\u001b[0m \u001b[0mrange\u001b[0m\u001b[0;34m(\u001b[0m\u001b[0;36m0\u001b[0m\u001b[0;34m,\u001b[0m \u001b[0mNUMBER_OF_NODES\u001b[0m\u001b[0;34m,\u001b[0m \u001b[0mSTEP\u001b[0m\u001b[0;34m)\u001b[0m\u001b[0;34m:\u001b[0m\u001b[0;34m\u001b[0m\u001b[0;34m\u001b[0m\u001b[0m\n\u001b[0;32m----> 7\u001b[0;31m     \u001b[0mlazy_result\u001b[0m \u001b[0;34m=\u001b[0m \u001b[0mdelayed\u001b[0m\u001b[0;34m(\u001b[0m\u001b[0mrun_single_batch\u001b[0m\u001b[0;34m)\u001b[0m\u001b[0;34m(\u001b[0m\u001b[0mwriteProps\u001b[0m\u001b[0;34m,\u001b[0m \u001b[0mindex\u001b[0m\u001b[0;34m,\u001b[0m \u001b[0mSTEP\u001b[0m\u001b[0;34m)\u001b[0m\u001b[0;34m\u001b[0m\u001b[0;34m\u001b[0m\u001b[0m\n\u001b[0m\u001b[1;32m      8\u001b[0m     \u001b[0mres\u001b[0m\u001b[0;34m.\u001b[0m\u001b[0mappend\u001b[0m\u001b[0;34m(\u001b[0m\u001b[0mlazy_result\u001b[0m\u001b[0;34m)\u001b[0m\u001b[0;34m\u001b[0m\u001b[0;34m\u001b[0m\u001b[0m\n",
      "\u001b[0;31mNameError\u001b[0m: name 'writeProps' is not defined"
     ]
    }
   ],
   "source": [
    "STEP=6000\n",
    "NUMBER_OF_NODES=get_number_of_nodes()\n",
    "print(NUMBER_OF_NODES)\n",
    "\n",
    "res = []\n",
    "for index in range(0, NUMBER_OF_NODES, STEP):\n",
    "    lazy_result = delayed(run_single_batch)(writeProps, index, STEP)\n",
    "    res.append(lazy_result)"
   ]
  },
  {
   "cell_type": "code",
   "execution_count": 8,
   "metadata": {},
   "outputs": [
    {
     "name": "stdout",
     "output_type": "stream",
     "text": [
      "[]\n"
     ]
    }
   ],
   "source": [
    "pprint(res)"
   ]
  },
  {
   "cell_type": "code",
   "execution_count": 9,
   "metadata": {},
   "outputs": [
    {
     "name": "stdout",
     "output_type": "stream",
     "text": [
      "CPU times: user 0 ns, sys: 950 µs, total: 950 µs\n",
      "Wall time: 480 µs\n"
     ]
    }
   ],
   "source": [
    "%%time\n",
    "actual_res = compute(res)"
   ]
  },
  {
   "cell_type": "code",
   "execution_count": null,
   "metadata": {},
   "outputs": [],
   "source": []
  }
 ],
 "metadata": {
  "kernelspec": {
   "display_name": "Python 3",
   "language": "python",
   "name": "python3"
  },
  "language_info": {
   "codemirror_mode": {
    "name": "ipython",
    "version": 3
   },
   "file_extension": ".py",
   "mimetype": "text/x-python",
   "name": "python",
   "nbconvert_exporter": "python",
   "pygments_lexer": "ipython3",
   "version": "3.9.1"
  },
  "widgets": {
   "application/vnd.jupyter.widget-state+json": {
    "state": {},
    "version_major": 2,
    "version_minor": 0
   }
  }
 },
 "nbformat": 4,
 "nbformat_minor": 4
}
