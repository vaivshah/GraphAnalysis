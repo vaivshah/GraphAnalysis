{
 "cells": [
  {
   "cell_type": "code",
   "execution_count": 1,
   "metadata": {},
   "outputs": [],
   "source": [
    "import sys\n",
    "import time\n",
    "import json\n",
    "from pprint import pprint\n",
    "\n",
    "import pandas as pd\n",
    "\n",
    "from neo4j import GraphDatabase\n",
    "from dask import delayed, compute\n",
    "from dask.distributed import Client\n",
    "\n",
    "import helpers.graph_services as gs\n",
    "import helpers.helper as helper"
   ]
  },
  {
   "cell_type": "code",
   "execution_count": 2,
   "metadata": {},
   "outputs": [],
   "source": [
    "def check_if_graph_exists(neo4j_connection, graph_name):\n",
    "    query=\"\"\"CALL gds.graph.exists('{graph_name}')\"\"\".format(graph_name=graph_name)\n",
    "    res=neo4j_connection.run_single_query(query)\n",
    "    return res\n",
    "\n",
    "def get_graph_information(neo4j_connection, graph_name):\n",
    "    query=\"\"\"CALL gds.graph.list('{graph_name}')\"\"\".format(graph_name=graph_name)\n",
    "    res=neo4j_connection.run_single_query(query)\n",
    "    return res\n",
    "\n",
    "def create_graph(neo4j_connection, graph_name):\n",
    "    query = \"\"\"\n",
    "    CALL gds.graph.create(\n",
    "      '{graph_name}', \n",
    "      {{\n",
    "        TWITCH_USER: {{\n",
    "            label:'TWITCH_USER', \n",
    "            properties: ['days', 'views']\n",
    "            }}\n",
    "      }}, \n",
    "      '*'\n",
    "    )\n",
    "    \"\"\".format(graph_name=graph_name)\n",
    "    res=neo4j_connection.run_single_query(query)\n",
    "    return res"
   ]
  },
  {
   "cell_type": "code",
   "execution_count": 3,
   "metadata": {},
   "outputs": [],
   "source": [
    "GRAPH_NAME=\"twitch-graph\""
   ]
  },
  {
   "cell_type": "code",
   "execution_count": 4,
   "metadata": {},
   "outputs": [
    {
     "name": "stdout",
     "output_type": "stream",
     "text": [
      "{'creationTime': neo4j.time.DateTime(2021, 1, 14, 3, 2, 19.080034, tzinfo=<StaticTzInfo 'Etc/UTC'>),\n",
      " 'database': 'neo4j',\n",
      " 'degreeDistribution': {'max': 1491,\n",
      "                        'mean': 12.586166471277842,\n",
      "                        'min': 0,\n",
      "                        'p50': 4,\n",
      "                        'p75': 12,\n",
      "                        'p90': 28,\n",
      "                        'p95': 45,\n",
      "                        'p99': 122,\n",
      "                        'p999': 486},\n",
      " 'density': 0.0003688902509240553,\n",
      " 'graphName': 'twitch-graph',\n",
      " 'memoryUsage': '5764 KiB',\n",
      " 'modificationTime': neo4j.time.DateTime(2021, 1, 14, 3, 2, 20.49528, tzinfo=<StaticTzInfo 'Etc/UTC'>),\n",
      " 'nodeCount': 34120,\n",
      " 'nodeProjection': {'TWITCH_USER': {'label': 'TWITCH_USER',\n",
      "                                    'properties': {'days': {'defaultValue': None,\n",
      "                                                            'property': 'days'},\n",
      "                                                   'views': {'defaultValue': None,\n",
      "                                                             'property': 'views'}}}},\n",
      " 'nodeQuery': None,\n",
      " 'relationshipCount': 429440,\n",
      " 'relationshipProjection': {'__ALL__': {'aggregation': 'DEFAULT',\n",
      "                                        'orientation': 'NATURAL',\n",
      "                                        'properties': {},\n",
      "                                        'type': '*'}},\n",
      " 'relationshipQuery': None,\n",
      " 'schema': {'nodes': {'TWITCH_USER': {'days': 'Integer', 'views': 'Integer'}},\n",
      "            'relationships': {'__ALL__': {}}},\n",
      " 'sizeInBytes': 5902712}\n"
     ]
    }
   ],
   "source": [
    "neo4j_connection = gs.graph_driver(uri_scheme='bolt', host='localhost', port='8687', username='neo4j', password='vaibhav123')\n",
    "existing_graphs = check_if_graph_exists(neo4j_connection, GRAPH_NAME)\n",
    "if not existing_graphs[0]['exists']:\n",
    "    r = create_graph(neo4j_connection, GRAPH_NAME)\n",
    "else:\n",
    "    r = get_graph_information(neo4j_connection, GRAPH_NAME)\n",
    "res = dict(r[0].items())\n",
    "pprint(res)\n"
   ]
  },
  {
   "cell_type": "code",
   "execution_count": null,
   "metadata": {},
   "outputs": [],
   "source": []
  }
 ],
 "metadata": {
  "kernelspec": {
   "display_name": "Python 3",
   "language": "python",
   "name": "python3"
  },
  "language_info": {
   "codemirror_mode": {
    "name": "ipython",
    "version": 3
   },
   "file_extension": ".py",
   "mimetype": "text/x-python",
   "name": "python",
   "nbconvert_exporter": "python",
   "pygments_lexer": "ipython3",
   "version": "3.9.1"
  },
  "widgets": {
   "application/vnd.jupyter.widget-state+json": {
    "state": {},
    "version_major": 2,
    "version_minor": 0
   }
  }
 },
 "nbformat": 4,
 "nbformat_minor": 4
}
