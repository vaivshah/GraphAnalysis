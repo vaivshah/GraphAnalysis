{
 "cells": [
  {
   "cell_type": "code",
   "execution_count": null,
   "metadata": {},
   "outputs": [],
   "source": [
    "import sys\n",
    "import time\n",
    "import json\n",
    "from pprint import pprint\n",
    "\n",
    "import pandas as pd\n",
    "\n",
    "from neo4j import GraphDatabase\n",
    "from neo4j.exceptions import ClientError\n",
    "from dask import delayed, compute\n",
    "import multiprocessing.popen_spawn_posix\n",
    "from dask.distributed import Client\n",
    "\n",
    "import helpers.graph_services as gs\n",
    "import helpers.helper as helper"
   ]
  },
  {
   "cell_type": "code",
   "execution_count": null,
   "metadata": {},
   "outputs": [],
   "source": [
    "def check_if_graph_exists(neo4j_connection, graph_name):\n",
    "    query=\"\"\"CALL gds.graph.exists('{graph_name}')\"\"\".format(graph_name=graph_name)\n",
    "    res=neo4j_connection.run_single_query(query)\n",
    "    return res\n",
    "\n",
    "def get_graph_information(neo4j_connection, graph_name):\n",
    "    query=\"\"\"CALL gds.graph.list('{graph_name}')\"\"\".format(graph_name=graph_name)\n",
    "    res=neo4j_connection.run_single_query(query)\n",
    "    return res\n",
    "\n",
    "def create_graph(neo4j_connection, graph_name):\n",
    "    query = \"\"\"\n",
    "    CALL gds.graph.create(\n",
    "      '{graph_name}', \n",
    "      {{\n",
    "        TWITCH_USER: {{\n",
    "            label:'TWITCH_USER', \n",
    "            properties: ['days', 'views']\n",
    "            }}\n",
    "      }}, \n",
    "      '*'\n",
    "    )\n",
    "    \"\"\".format(graph_name=graph_name)\n",
    "    res=neo4j_connection.run_single_query(query)\n",
    "    return res\n",
    "\n",
    "def get_gds_query(graph_name, algorithm_name, execution_mode=\"stream\", properties={}, estimate=False):\n",
    "    properties_as_string = helper.convert_dict_to_string(properties)\n",
    "    if estimate:\n",
    "        query=\"\"\"CALL gds.{algorithm_name}.{execution_mode}.estimate('{graph_name}', {{ {properties} }})\"\"\".format(\n",
    "            algorithm_name=algorithm_name,\n",
    "            execution_mode=execution_mode,\n",
    "            graph_name=graph_name,\n",
    "            properties=properties_as_string)\n",
    "    else:\n",
    "        query=\"\"\"CALL gds.{algorithm_name}.{execution_mode}('{graph_name}', {{ {properties} }})\"\"\".format(\n",
    "            algorithm_name=algorithm_name,\n",
    "            execution_mode=execution_mode,\n",
    "            graph_name=graph_name,\n",
    "            properties=properties_as_string)\n",
    "    return query\n",
    "    \n",
    "def run_gds_algorithm(neo4j_connection, query):\n",
    "    try:\n",
    "        res=neo4j_connection.run_single_query(query)\n",
    "    except ClientError as e:\n",
    "        print(e)\n",
    "        res=[{'error':e}]\n",
    "    return res"
   ]
  },
  {
   "cell_type": "code",
   "execution_count": null,
   "metadata": {},
   "outputs": [],
   "source": [
    "GRAPH_NAME=\"twitch-graph\""
   ]
  },
  {
   "cell_type": "code",
   "execution_count": null,
   "metadata": {},
   "outputs": [],
   "source": [
    "client = Client(n_workers=6, threads_per_worker=6)"
   ]
  },
  {
   "cell_type": "code",
   "execution_count": null,
   "metadata": {},
   "outputs": [],
   "source": [
    "neo4j_connection = gs.graph_driver(uri_scheme='bolt', host='localhost', port='8687', username='neo4j', password='vaibhav123')\n",
    "\n",
    "existing_graphs = check_if_graph_exists(neo4j_connection, GRAPH_NAME)\n",
    "if not existing_graphs[0]['exists']:\n",
    "    r = create_graph(neo4j_connection, GRAPH_NAME)\n",
    "else:\n",
    "    r = get_graph_information(neo4j_connection, GRAPH_NAME)\n",
    "res = dict(r[0].items())\n",
    "pprint(res)\n"
   ]
  },
  {
   "cell_type": "code",
   "execution_count": null,
   "metadata": {},
   "outputs": [],
   "source": [
    "def run_algorithms(graph_name, algorithm, properties, algorithm_class):\n",
    "    neo4j_connection = gs.graph_driver(uri_scheme='bolt', host='localhost', port='8687', username='neo4j', password='vaibhav123')\n",
    "    query_time = time.time()\n",
    "    query = get_gds_query(graph_name, algorithm, 'write', properties)\n",
    "    \n",
    "    res=run_gds_algorithm(neo4j_connection, query)\n",
    "    r=[]\n",
    "    for rs in res:\n",
    "        r.append(dict(rs.items()))\n",
    "    return {'results':r, 'time':time.time()-query_time, 'query':query, \n",
    "            'algorithm':algorithm, 'algorithm_class': algorithm_class, 'properties':properties}\n",
    "\n",
    "def estimate_algorithms(graph_name, algorithm, properties, algorithm_class):\n",
    "    neo4j_connection = gs.graph_driver(uri_scheme='bolt', host='localhost', port='8687', username='neo4j', password='vaibhav123')\n",
    "    query_time = time.time()\n",
    "    query = str(get_gds_query(graph_name, algorithm, 'write', properties, True))\n",
    "    r=dict(run_gds_algorithm(neo4j_connection, query)[0].items())\n",
    "    return {'results':r, 'time':time.time()-query_time, 'query':query, \n",
    "            'algorithm':algorithm, 'algorithm_class': algorithm_class, 'properties':properties}\n"
   ]
  },
  {
   "cell_type": "code",
   "execution_count": null,
   "metadata": {},
   "outputs": [],
   "source": [
    "list_of_algorithms =  helper.get_list_of_algorithms()\n",
    "res = []\n",
    "for class_of_algorithm in list_of_algorithms:\n",
    "    for algorithm in list_of_algorithms[class_of_algorithm]:\n",
    "        props=list_of_algorithms[class_of_algorithm][algorithm]\n",
    "#         lazy_result = delayed(estimate_algorithms)(GRAPH_NAME, algorithm, props, class_of_algorithm)\n",
    "        lazy_result = delayed(run_algorithms)(GRAPH_NAME, algorithm, props, class_of_algorithm)\n",
    "        res.append(lazy_result)"
   ]
  },
  {
   "cell_type": "code",
   "execution_count": null,
   "metadata": {},
   "outputs": [],
   "source": [
    "print(res)"
   ]
  },
  {
   "cell_type": "code",
   "execution_count": null,
   "metadata": {},
   "outputs": [],
   "source": [
    "%%time\n",
    "actual_res = compute(res)"
   ]
  },
  {
   "cell_type": "code",
   "execution_count": null,
   "metadata": {},
   "outputs": [],
   "source": [
    "pprint(actual_res)"
   ]
  },
  {
   "cell_type": "code",
   "execution_count": null,
   "metadata": {},
   "outputs": [],
   "source": [
    "def stringify_algos(list_of_algorithms):\n",
    "    writeProps=[]\n",
    "    for class_of_algorithm in list_of_algorithms:\n",
    "        print(class_of_algorithm)\n",
    "        for algorithm in list_of_algorithms[class_of_algorithm]:\n",
    "            print(\"\\t\"+algorithm)\n",
    "            for prop in list_of_algorithms[class_of_algorithm][algorithm]:\n",
    "                print(\"\\t\\t\"+prop+\":\"+str(list_of_algorithms[class_of_algorithm][algorithm][prop]))\n",
    "            writeProps.append(\"n.\"+list_of_algorithms[class_of_algorithm][algorithm]['writeProperty'])\n",
    "    return writeProps\n",
    "\n",
    "writeProps=stringify_algos(list_of_algorithms)"
   ]
  },
  {
   "cell_type": "code",
   "execution_count": null,
   "metadata": {},
   "outputs": [],
   "source": [
    "query=\"MATCH (n:TWITCH_USER) REMOVE \" +\", \".join(writeProps)\n",
    "neo4j_connection = gs.graph_driver(uri_scheme='bolt', host='localhost', port='8687', username='neo4j', password='vaibhav123')\n",
    "res=neo4j_connection.run_single_query(query)\n",
    "print(res)"
   ]
  },
  {
   "cell_type": "code",
   "execution_count": null,
   "metadata": {},
   "outputs": [],
   "source": []
  }
 ],
 "metadata": {
  "kernelspec": {
   "display_name": "Python 3",
   "language": "python",
   "name": "python3"
  },
  "language_info": {
   "codemirror_mode": {
    "name": "ipython",
    "version": 3
   },
   "file_extension": ".py",
   "mimetype": "text/x-python",
   "name": "python",
   "nbconvert_exporter": "python",
   "pygments_lexer": "ipython3",
   "version": "3.9.1"
  },
  "widgets": {
   "application/vnd.jupyter.widget-state+json": {
    "state": {},
    "version_major": 2,
    "version_minor": 0
   }
  }
 },
 "nbformat": 4,
 "nbformat_minor": 4
}
