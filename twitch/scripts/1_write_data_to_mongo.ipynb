{
 "cells": [
  {
   "cell_type": "code",
   "execution_count": 1,
   "metadata": {},
   "outputs": [],
   "source": [
    "import sys\n",
    "import time\n",
    "\n",
    "from tqdm import tqdm\n",
    "from pymongo import UpdateOne, InsertOne\n",
    "import dask\n",
    "from dask.distributed import Client\n",
    "from dask.diagnostics import ProgressBar\n",
    "import multiprocessing.popen_spawn_posix\n",
    "\n",
    "import helpers.mongo_services as ms\n",
    "import helpers.helper as helper"
   ]
  },
  {
   "cell_type": "code",
   "execution_count": 2,
   "metadata": {},
   "outputs": [],
   "source": [
    "language_codes = ['RU']"
   ]
  },
  {
   "cell_type": "code",
   "execution_count": 3,
   "metadata": {},
   "outputs": [
    {
     "name": "stderr",
     "output_type": "stream",
     "text": [
      "/home/vaibhav/Code/miniconda3/envs/GraphAnalysis/lib/python3.9/site-packages/distributed/node.py:151: UserWarning: Port 8787 is already in use.\n",
      "Perhaps you already have a cluster running?\n",
      "Hosting the HTTP server on port 33689 instead\n",
      "  warnings.warn(\n"
     ]
    }
   ],
   "source": [
    "client = Client(n_workers=6, threads_per_worker=6)"
   ]
  },
  {
   "cell_type": "code",
   "execution_count": 15,
   "metadata": {},
   "outputs": [],
   "source": [
    "def get_mongo_driver(db=\"DEFAULT_DB\", collection=\"DEFAULT_COLLECTION\"):\n",
    "    conf = {\n",
    "        'MONGODB_HOST': 'localhost',\n",
    "        'MONGODB_PORT': '27817',\n",
    "        'LOG_FILE': '../mongo/logs/db.log'\n",
    "    }\n",
    "    return ms.get_MongoDB_driver(conf, db, collection)\n",
    "\n",
    "def write_data(language_code, edges, features, targets):\n",
    "    mongo_driver=get_mongo_driver(db=\"twitch_users\", collection=\"relational_features\")\n",
    "    \n",
    "    targets_to_push=[]\n",
    "    for target in tqdm(targets):\n",
    "        targets_to_push.append(\n",
    "            InsertOne(\n",
    "                {\n",
    "                    'language_code':language_code,\n",
    "                    'mature': target['mature']==\"True\",\n",
    "                    'partner': target['partner']==\"True\",\n",
    "                    'days': int(target['days']),\n",
    "                    'views': int(target['views']),\n",
    "                    'new_id': int(target['new_id']),\n",
    "                    'id': int(target['id']),\n",
    "                },\n",
    "            )\n",
    "        )\n",
    "    \n",
    "    mongo_driver.perform_bulk_operations(targets_to_push)\n",
    "#     mongo_driver.collection.insert_many(targets)\n",
    "    \n",
    "#     edges_to_push=[]\n",
    "#     for edge in tqdm(edges):\n",
    "#         edges_to_push.append(\n",
    "#             UpdateOne(\n",
    "#                 filter={'new_id': edge['from'], 'language_code':language_code},  # Find application if it exists in the collection.\n",
    "#                 update={'$push': {'to': edge['to']}}, # Using '$push', means push to list if does not exist in list already.\n",
    "#             )\n",
    "#         )\n",
    "#     mongo_driver.perform_bulk_operations(edges_to_push)\n",
    "    \n",
    "#     features_to_push=[]\n",
    "#     for key in tqdm(features):\n",
    "#         features_to_push.append(\n",
    "#             UpdateOne(\n",
    "#                 filter={'new_id': key, 'language_code':language_code},  # Find application if it exists in the collection.\n",
    "#                 update={'$addToSet': { 'features' :{'$each': features[key]}}}, # Using '$push', means push to list if does not exist in list already.\n",
    "#             )\n",
    "#         )\n",
    "#     mongo_driver.perform_bulk_operations(features_to_push)\n",
    "    return \n",
    "    \n",
    "    \n",
    "def read_data(language_code):\n",
    "    edges_filename = './../data/0_raw_data/{}/musae_{}_edges.csv'.format(language_code, language_code)\n",
    "    features_filename = './../data/0_raw_data/{}/musae_{}_features.json'.format(language_code, language_code)\n",
    "    target_filename = './../data/0_raw_data/{}/musae_{}_target.csv'.format(language_code, language_code)\n",
    "    \n",
    "    edges_start_time = time.time()\n",
    "    edges = helper.read_csv_as_dict(edges_filename)\n",
    "    edges_reading_time = time.time()-edges_start_time\n",
    "    \n",
    "    features_start_time = time.time()\n",
    "    features = helper.read_json(features_filename)\n",
    "    features_reading_time = time.time()-features_start_time\n",
    "    \n",
    "    target_start_time = time.time()\n",
    "    targets = helper.read_csv_as_dict(target_filename)\n",
    "    target_reading_time = time.time()-target_start_time\n",
    "    \n",
    "    results = {\n",
    "        \"edges\": {\"length\":len(edges), \"time\":edges_reading_time}, \n",
    "        \"features\": {\"length\":len(features), \"time\":features_reading_time}, \n",
    "        \"targets\": {\"length\":len(targets), \"time\":target_reading_time},\n",
    "    }\n",
    "    return edges, features, targets, results\n",
    "\n",
    "def process_language_files(language_code):\n",
    "    reading_start_time = time.time()\n",
    "    edges, features, targets, reading_results = read_data(language_code)\n",
    "    reading_time = time.time()-reading_start_time\n",
    "    \n",
    "    \n",
    "    adding_start_time = time.time()\n",
    "    writing_results = write_data(language_code, edges, features, targets)\n",
    "    adding_time = time.time()-adding_start_time\n",
    "    \n",
    "    return {\"reading_results\": reading_results, \"writing_results\": writing_results}"
   ]
  },
  {
   "cell_type": "code",
   "execution_count": 16,
   "metadata": {},
   "outputs": [
    {
     "name": "stdout",
     "output_type": "stream",
     "text": [
      "CPU times: user 1.05 ms, sys: 143 µs, total: 1.19 ms\n",
      "Wall time: 773 µs\n"
     ]
    }
   ],
   "source": [
    "%%time\n",
    "res=[]\n",
    "results= {}\n",
    "for index, language_code in enumerate(language_codes):\n",
    "    processing_start_time = time.time()\n",
    "    \n",
    "    lazy_result = dask.delayed(process_language_files)(language_code)\n",
    "    res.append(lazy_result)\n",
    "\n",
    "    processing_time =time.time()-processing_start_time"
   ]
  },
  {
   "cell_type": "code",
   "execution_count": 17,
   "metadata": {},
   "outputs": [
    {
     "name": "stdout",
     "output_type": "stream",
     "text": [
      "CPU times: user 19.6 ms, sys: 5.8 ms, total: 25.4 ms\n",
      "Wall time: 201 ms\n"
     ]
    }
   ],
   "source": [
    "%%time\n",
    "\n",
    "with ProgressBar():\n",
    "    results = dask.compute(res)"
   ]
  },
  {
   "cell_type": "code",
   "execution_count": 14,
   "metadata": {},
   "outputs": [
    {
     "name": "stdout",
     "output_type": "stream",
     "text": [
      "False\n",
      "True\n",
      "False\n",
      "True\n",
      "False\n"
     ]
    }
   ],
   "source": [
    "\n",
    "target_filename = './../data/0_raw_data/{}/musae_{}_target.csv'.format(language_code, language_code)\n",
    "targets = helper.read_csv_as_dict(target_filename)\n",
    "print(targets[0]['mature'])\n",
    "print(targets[0]['mature']==\"False\")\n",
    "print(targets[0]['mature']==False)\n",
    "print(bool(targets[0]['mature']))\n",
    "print(str(targets[0]['mature']))"
   ]
  },
  {
   "cell_type": "code",
   "execution_count": null,
   "metadata": {},
   "outputs": [],
   "source": []
  }
 ],
 "metadata": {
  "kernelspec": {
   "display_name": "Python 3",
   "language": "python",
   "name": "python3"
  },
  "language_info": {
   "codemirror_mode": {
    "name": "ipython",
    "version": 3
   },
   "file_extension": ".py",
   "mimetype": "text/x-python",
   "name": "python",
   "nbconvert_exporter": "python",
   "pygments_lexer": "ipython3",
   "version": "3.9.1"
  },
  "widgets": {
   "application/vnd.jupyter.widget-state+json": {
    "state": {},
    "version_major": 2,
    "version_minor": 0
   }
  }
 },
 "nbformat": 4,
 "nbformat_minor": 4
}
