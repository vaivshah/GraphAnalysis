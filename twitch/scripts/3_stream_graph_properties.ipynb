{
 "cells": [
  {
   "cell_type": "code",
   "execution_count": 1,
   "metadata": {},
   "outputs": [],
   "source": [
    "import sys\n",
    "import time\n",
    "import json\n",
    "from pprint import pprint\n",
    "\n",
    "import pandas as pd\n",
    "\n",
    "from neo4j import GraphDatabase\n",
    "from neo4j.exceptions import ClientError\n",
    "from dask import delayed, compute\n",
    "import multiprocessing.popen_spawn_posix\n",
    "from dask.distributed import Client\n",
    "\n",
    "import helpers.graph_services as gs\n",
    "import helpers.mongo_services as ms\n",
    "import helpers.helper as helper"
   ]
  },
  {
   "cell_type": "code",
   "execution_count": 3,
   "metadata": {},
   "outputs": [
    {
     "name": "stdout",
     "output_type": "stream",
     "text": [
      "['n.pageRank AS pageRank,', 'n.betweenness AS betweenness,', 'n.articleRank AS articleRank,', 'n.closeness AS closeness,', 'n.closeness_harmonic AS closeness_harmonic,', 'n.degree AS degree,', 'n.eigenvector AS eigenvector,', 'n.louvain AS louvain,', 'n.labelPropagation AS labelPropagation,', 'n.wcc AS wcc,', 'n.triangleCount AS triangleCount,', 'n.localClusteringCoefficient AS localClusteringCoefficient,', 'n.k1coloring AS k1coloring,', 'n.modularityOptimization AS modularityOptimization,', 'n.scc AS scc,', 'n.fastRP AS fastRP,', 'n.node2vec AS node2vec,', 'n.language AS language,', 'n.mature AS mature,', 'n.partner AS partner,', 'n.views AS views,', 'n.days AS days,']\n"
     ]
    }
   ],
   "source": [
    "def get_algos(list_of_algorithms):\n",
    "    writeProps={}\n",
    "    for class_of_algorithm in list_of_algorithms:\n",
    "        writeProps[class_of_algorithm]=[]\n",
    "        for algorithm in list_of_algorithms[class_of_algorithm]:\n",
    "            writeProps[class_of_algorithm].append(list_of_algorithms[class_of_algorithm][algorithm]['writeProperty'])\n",
    "    return writeProps\n",
    "\n",
    "    writeProps=get_algos(helper.get_list_of_algorithms())\n",
    "    writeProps= [prop for class_of_algorithm in writeProps for prop in writeProps[class_of_algorithm] ]\n",
    "    writeProps += ['language', 'mature', 'partner', 'views', 'days']\n",
    "    writeProps = [\"n.\"+prop+\" AS \"+prop+\",\" for prop in writeProps]\n",
    "    return writeProps"
   ]
  },
  {
   "cell_type": "code",
   "execution_count": 4,
   "metadata": {},
   "outputs": [],
   "source": [
    "def get_number_of_nodes():\n",
    "    neo4j_connection=gs.graph_driver(uri_scheme='bolt', host='localhost', port='8687', username='neo4j', password='vaibhav123')\n",
    "    neo4j_data=neo4j_connection.test_connection()\n",
    "    return dict(neo4j_data[0])['nodes']"
   ]
  },
  {
   "cell_type": "code",
   "execution_count": 5,
   "metadata": {},
   "outputs": [],
   "source": [
    "def read_batch_from_neo4j(driver, writeProps, start_index=0, batch_size=1, ):\n",
    "    query=\"\"\"\n",
    "    MATCH (n)\n",
    "    RETURN {props} \n",
    "    SKIP {start_index}\n",
    "    LIMIT {batch_size}\n",
    "    \"\"\".format(start_index=start_index, batch_size=batch_size, props=\" \".join(writeProps)[:-1])\n",
    "    res=driver.run_single_query(query)\n",
    "    res=driver.format_raw_res(res)\n",
    "#     return [dict(rs) for rs in res]\n",
    "    \n",
    "    writeProps=get_algos(helper.get_list_of_algorithms())\n",
    "    DEFAULT='non-graph'\n",
    "    formatted_results=[]\n",
    "    for rs in res:\n",
    "        res_dict={DEFAULT:{}}\n",
    "        for propName in writeProps.keys():\n",
    "            res_dict[propName]={}\n",
    "            \n",
    "        rs=dict(rs)\n",
    "        for key, value in rs.items():\n",
    "            for propName in writeProps.keys():\n",
    "                if key in writeProps[propName]:\n",
    "                    res_dict[propName][key]=value\n",
    "                    break\n",
    "            else:\n",
    "                res_dict[DEFAULT][key]=value\n",
    "        formatted_results.append(res_dict)\n",
    "    return formatted_results\n",
    "\n",
    "def get_mongo_driver():\n",
    "    conf = {\n",
    "        'MONGODB_HOST': 'localhost',\n",
    "        'MONGODB_PORT': '27017',\n",
    "        'LOG_FILE': '../mongo/logs/db.log'\n",
    "    }\n",
    "    db=\"TWITCH\"\n",
    "    service=\"FEATURES\"\n",
    "    return ms.get_MongoDB_driver(conf, db, service)\n",
    "\n",
    "def write_batch_to_mongo(driver, data):\n",
    "    return driver.collection.insert_many(data)\n",
    "    \n",
    "def run_single_batch(writeProps, start_index, step):\n",
    "    neo4j_connection=gs.graph_driver(uri_scheme='bolt', host='localhost', port='8687', username='neo4j', password='vaibhav123')\n",
    "    neo4j_data=read_batch_from_neo4j(neo4j_connection, writeProps, start_index, step)\n",
    "    \n",
    "    mongo_connection=get_mongo_driver()\n",
    "    mongo_res=None\n",
    "    if mongo_connection:\n",
    "        mongo_res=write_batch_to_mongo(mongo_connection, neo4j_data)\n",
    "    \n",
    "    return mongo_res"
   ]
  },
  {
   "cell_type": "code",
   "execution_count": 6,
   "metadata": {},
   "outputs": [],
   "source": [
    "# run_single_batch(writeProps, 0, 2)"
   ]
  },
  {
   "cell_type": "code",
   "execution_count": 7,
   "metadata": {},
   "outputs": [],
   "source": [
    "client = Client(n_workers=6, threads_per_worker=6)"
   ]
  },
  {
   "cell_type": "code",
   "execution_count": 8,
   "metadata": {},
   "outputs": [
    {
     "name": "stdout",
     "output_type": "stream",
     "text": [
      "34120\n"
     ]
    }
   ],
   "source": [
    "STEP=6000\n",
    "NUMBER_OF_NODES=get_number_of_nodes()\n",
    "print(NUMBER_OF_NODES)\n",
    "\n",
    "res = []\n",
    "for index in range(0, NUMBER_OF_NODES, STEP):\n",
    "    lazy_result = delayed(run_single_batch)(writeProps, index, STEP)\n",
    "    res.append(lazy_result)"
   ]
  },
  {
   "cell_type": "code",
   "execution_count": 9,
   "metadata": {},
   "outputs": [
    {
     "name": "stdout",
     "output_type": "stream",
     "text": [
      "[Delayed('run_single_batch-ed9e4f99-d059-4c52-b492-2cb9f9ec64aa'),\n",
      " Delayed('run_single_batch-1960a17c-1ac5-46c8-a07a-05ac3e09b827'),\n",
      " Delayed('run_single_batch-72491df4-ec3c-468b-8e5c-b5acd0494b55'),\n",
      " Delayed('run_single_batch-c0ea1421-1820-488a-97b8-6c3ad64d0273'),\n",
      " Delayed('run_single_batch-e47c9e59-1786-4b21-a449-fe76f8065aeb'),\n",
      " Delayed('run_single_batch-b9c8b3ea-fee7-4b33-bf5c-fb56b295b25d')]\n"
     ]
    }
   ],
   "source": [
    "pprint(res)"
   ]
  },
  {
   "cell_type": "code",
   "execution_count": 10,
   "metadata": {},
   "outputs": [
    {
     "name": "stdout",
     "output_type": "stream",
     "text": [
      "CPU times: user 170 ms, sys: 18.1 ms, total: 189 ms\n",
      "Wall time: 1.75 s\n"
     ]
    }
   ],
   "source": [
    "%%time\n",
    "actual_res = compute(res)"
   ]
  },
  {
   "cell_type": "code",
   "execution_count": null,
   "metadata": {},
   "outputs": [],
   "source": []
  }
 ],
 "metadata": {
  "kernelspec": {
   "display_name": "Python 3",
   "language": "python",
   "name": "python3"
  },
  "language_info": {
   "codemirror_mode": {
    "name": "ipython",
    "version": 3
   },
   "file_extension": ".py",
   "mimetype": "text/x-python",
   "name": "python",
   "nbconvert_exporter": "python",
   "pygments_lexer": "ipython3",
   "version": "3.9.1"
  },
  "widgets": {
   "application/vnd.jupyter.widget-state+json": {
    "state": {},
    "version_major": 2,
    "version_minor": 0
   }
  }
 },
 "nbformat": 4,
 "nbformat_minor": 4
}
