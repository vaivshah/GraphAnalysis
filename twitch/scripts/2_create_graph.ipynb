{
 "cells": [
  {
   "cell_type": "code",
   "execution_count": 3,
   "metadata": {},
   "outputs": [],
   "source": [
    "import sys\n",
    "import time\n",
    "\n",
    "from neo4j import GraphDatabase\n",
    "import dask\n",
    "from dask.distributed import Client"
   ]
  },
  {
   "cell_type": "code",
   "execution_count": 4,
   "metadata": {},
   "outputs": [
    {
     "name": "stderr",
     "output_type": "stream",
     "text": [
      "/home/vaibhav/Code/miniconda3/envs/MVDS/lib/python3.6/site-packages/distributed/node.py:155: UserWarning: Port 8787 is already in use.\n",
      "Perhaps you already have a cluster running?\n",
      "Hosting the HTTP server on port 38157 instead\n",
      "  http_address[\"port\"], self.http_server.port\n"
     ]
    }
   ],
   "source": [
    "client = Client(n_workers=6, threads_per_worker=6)"
   ]
  },
  {
   "cell_type": "code",
   "execution_count": null,
   "metadata": {},
   "outputs": [],
   "source": [
    "import helpers.helper as helper\n",
    "import helpers.graph_services as gs\n",
    "global_driver = gs.graph_driver(uri_scheme='bolt', host='localhost', port='8687', username='neo4j', password='vaibhav123')"
   ]
  },
  {
   "cell_type": "code",
   "execution_count": 5,
   "metadata": {},
   "outputs": [],
   "source": [
    "def add_nodes(nodes_list, language_code):\n",
    "    list_of_create_strings = []\n",
    "    create_string_template = \"\"\"\n",
    "        CREATE (:TWITCH_USER {{\n",
    "            node_id:{node_id}, \n",
    "            days:{days}, \n",
    "            mature:{mature}, \n",
    "            views:{views}, \n",
    "            partner:{partner},\n",
    "            language:'{language_code}'\n",
    "            }}\n",
    "            )\"\"\"\n",
    "    for index, node in nodes_list.iterrows():\n",
    "        create_string = create_string_template.format(\n",
    "            node_id=node['new_id'],\n",
    "            days=node['days'],\n",
    "            mature=node['mature'],\n",
    "            views=node['views'],\n",
    "            partner=node['partner'],\n",
    "            language_code=str(language_code),\n",
    "        )\n",
    "\n",
    "        list_of_create_strings.append(create_string)\n",
    "    return list_of_create_strings\n",
    "        \n",
    "def add_relations(relations_list, language_code):\n",
    "    list_of_create_strings = []\n",
    "    create_string_template = \"\"\"\n",
    "        MATCH (a:TWITCH_USER),(b:TWITCH_USER)\n",
    "        WHERE a.node_id = {source} AND b.node_id = {target} AND a.language = '{language_code}' AND b.language = '{language_code}'\n",
    "        MERGE (a)-[r:KNOWS {{ relationship_id:{edge_id}, language:'{language_code}' }}]-(b)\n",
    "        \"\"\"\n",
    "    for index, relations in relations_list.iterrows():\n",
    "        create_string = create_string_template.format(\n",
    "            source=relations['from'],\n",
    "            target=relations['to'],\n",
    "            edge_id=''+str(relations['from'])+'-'+str(relations['to']),\n",
    "            language_code=str(language_code),\n",
    "        )\n",
    "\n",
    "        list_of_create_strings.append(create_string)\n",
    "    return list_of_create_strings"
   ]
  },
  {
   "cell_type": "code",
   "execution_count": 6,
   "metadata": {},
   "outputs": [],
   "source": [
    "def add_data(language_code, edges, features, targets, driver):\n",
    "    add_nodes_start_time = time.time()\n",
    "    add_nodes_cypher = add_nodes(targets, language_code)\n",
    "#     node_results = driver.run_bulk_query(add_nodes_cypher)\n",
    "    node_results = run_bulk_query(add_nodes_cypher, driver)\n",
    "    add_nodes_time = time.time()-add_nodes_start_time\n",
    "    print(\"--------Finished writing {num} nodes in {time}s.\".format(num=len(targets), time=str(add_nodes_time)))\n",
    " \n",
    "    add_relations_start_time = time.time()\n",
    "    add_relations_cypher = add_relations(edges, language_code)\n",
    "#     relations_results = driver.run_bulk_query(add_relations_cypher)\n",
    "    relations_results = run_bulk_query(add_relations_cypher, driver)\n",
    "    add_relations_time = time.time()-add_relations_start_time\n",
    "    print(\"--------Finished writing {num} relations in {time}s.\".format(num=len(edges), time=str(add_relations_time)))\n",
    "    \n",
    "    \n",
    "    results = {\n",
    "        \"nodes\": {\"results\": node_results, \"length\":len(add_nodes_cypher), \"time\":add_nodes_time}, \n",
    "        \"relations\": {\"results\": relations_results, \"length\":len(add_relations_cypher), \"time\":add_relations_time}, \n",
    "    }\n",
    "    return results\n",
    "\n",
    "def load_data(language_code):\n",
    "    edges_filename = './../data/0_raw_data/{}/musae_{}_edges.csv'.format(language_code, language_code)\n",
    "    features_filename = './../data/0_raw_data/{}/musae_{}_features.json'.format(language_code, language_code)\n",
    "    target_filename = './../data/0_raw_data/{}/musae_{}_target.csv'.format(language_code, language_code)\n",
    "    \n",
    "    edges_start_time = time.time()\n",
    "    edges = read_csv(edges_filename)\n",
    "    edges_reading_time = time.time()-edges_start_time\n",
    "    print(\"--------Finished reading {num} edges in {time}s.\".format(num=len(edges), time=str(edges_reading_time)))\n",
    "    \n",
    "    features_start_time = time.time()\n",
    "    features = read_json(features_filename)\n",
    "    features_reading_time = time.time()-features_start_time\n",
    "    print(\"--------Finished reading {num} features in {time}s.\".format(num=len(features), time=str(features_reading_time)))\n",
    "    \n",
    "    target_start_time = time.time()\n",
    "    targets = read_csv(target_filename)\n",
    "    target_reading_time = time.time()-target_start_time\n",
    "    print(\"--------Finished reading {num} target in {time}s.\".format(num=len(targets), time=str(target_reading_time)))\n",
    "    \n",
    "    results = {\n",
    "        \"edges\": {\"length\":len(edges), \"time\":edges_reading_time}, \n",
    "        \"features\": {\"length\":len(features), \"time\":features_reading_time}, \n",
    "        \"targets\": {\"length\":len(targets), \"time\":target_reading_time},\n",
    "    }\n",
    "    return edges, features, targets, results\n",
    "\n",
    "def process_language_files(language_code):\n",
    "    print(\"----Started reading raw data: {language}\".format(language=language_code))\n",
    "    reading_start_time = time.time()\n",
    "    edges, features, targets, reading_results = load_data(language_code)\n",
    "    reading_time = time.time()-reading_start_time\n",
    "    print(\"----Finshed reading raw data: {language} in {time}\".format(language=language_code, time=str(reading_time)))\n",
    "    \n",
    "    \n",
    "    print(\"----Started writing graph data: {language}\".format(language=language_code))\n",
    "    adding_start_time = time.time()\n",
    "    neo4j_connection = gs.graph_driver(uri_scheme='bolt', host='localhost', port='8687', username='neo4j', password='vaibhav123')\n",
    "    writing_results = add_data(language_code, edges, features, targets, driver)\n",
    "    adding_time = time.time()-adding_start_time\n",
    "    print(\"----Finshed writing graph data: {language} in {time}\".format(language=language_code, time=str(adding_time)))\n",
    "    \n",
    "    return {\"reading_results\": reading_results, \"writing_results\": writing_results}"
   ]
  },
  {
   "cell_type": "code",
   "execution_count": 7,
   "metadata": {},
   "outputs": [],
   "source": [
    "# language_codes = ['DE', 'ENGB', 'ES', 'FR', 'PTBR', 'RU']\n",
    "language_codes = ['PTBR', 'RU']"
   ]
  },
  {
   "cell_type": "code",
   "execution_count": 8,
   "metadata": {},
   "outputs": [
    {
     "name": "stdout",
     "output_type": "stream",
     "text": [
      "=========================\n",
      "Started processing data: PTBR\n",
      "Finished processing data: PTBR in 0.001001119613647461\n",
      "=========================\n",
      "\n",
      "\n",
      "=========================\n",
      "Started processing data: RU\n",
      "Finished processing data: RU in 0.0006349086761474609\n",
      "=========================\n",
      "\n",
      "\n",
      "CPU times: user 4.81 ms, sys: 0 ns, total: 4.81 ms\n",
      "Wall time: 3.09 ms\n"
     ]
    }
   ],
   "source": [
    "%%time\n",
    "res=[]\n",
    "results= {}\n",
    "for index, language_code in enumerate(language_codes):\n",
    "    print(\"=\"*25)\n",
    "    \n",
    "    print(\"Started processing data: {language}\".format(language=language_code))   \n",
    "    processing_start_time = time.time()\n",
    "    \n",
    "    lazy_result = dask.delayed(process_language_files)(language_code)\n",
    "    res.append(lazy_result)\n",
    "    \n",
    "#     node_results, relations_results = process_language_files(language_code, global_driver)\n",
    "#     results[language_code] = {\"node_results\": node_results, \"relations_results\": relations_results}\n",
    "\n",
    "    processing_time =time.time()-processing_start_time\n",
    "    print(\"Finished processing data: {language} in {time}\".format(language=language_code, time=processing_time))   \n",
    "\n",
    "    print(\"=\"*25)\n",
    "    print(\"\\n\")"
   ]
  },
  {
   "cell_type": "code",
   "execution_count": 9,
   "metadata": {},
   "outputs": [],
   "source": [
    "results = dask.compute(res)"
   ]
  },
  {
   "cell_type": "code",
   "execution_count": 10,
   "metadata": {},
   "outputs": [
    {
     "name": "stderr",
     "output_type": "stream",
     "text": [
      "IOPub data rate exceeded.\n",
      "The notebook server will temporarily stop sending output\n",
      "to the client in order to avoid crashing it.\n",
      "To change this limit, set the config variable\n",
      "`--NotebookApp.iopub_data_rate_limit`.\n",
      "\n",
      "Current values:\n",
      "NotebookApp.iopub_data_rate_limit=1000000.0 (bytes/sec)\n",
      "NotebookApp.rate_limit_window=3.0 (secs)\n",
      "\n"
     ]
    }
   ],
   "source": [
    "print(results)"
   ]
  },
  {
   "cell_type": "code",
   "execution_count": 14,
   "metadata": {},
   "outputs": [],
   "source": [
    "\n",
    "driver = get_driver(uri_scheme='bolt', host='localhost', port='8687', username='neo4j', password='vaibhav123')\n",
    "reset_graph(driver)\n",
    "del_driver(driver)"
   ]
  },
  {
   "cell_type": "code",
   "execution_count": null,
   "metadata": {},
   "outputs": [],
   "source": [
    "process_language_files"
   ]
  },
  {
   "cell_type": "code",
   "execution_count": null,
   "metadata": {},
   "outputs": [],
   "source": [
    "client.close()"
   ]
  }
 ],
 "metadata": {
  "kernelspec": {
   "display_name": "Python 3",
   "language": "python",
   "name": "python3"
  },
  "language_info": {
   "codemirror_mode": {
    "name": "ipython",
    "version": 3
   },
   "file_extension": ".py",
   "mimetype": "text/x-python",
   "name": "python",
   "nbconvert_exporter": "python",
   "pygments_lexer": "ipython3",
   "version": "3.9.1"
  },
  "toc-showtags": false,
  "widgets": {
   "application/vnd.jupyter.widget-state+json": {
    "state": {},
    "version_major": 2,
    "version_minor": 0
   }
  }
 },
 "nbformat": 4,
 "nbformat_minor": 4
}
